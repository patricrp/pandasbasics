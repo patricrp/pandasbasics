{
 "cells": [
  {
   "cell_type": "markdown",
   "metadata": {},
   "source": [
    "# Project Name\n",
    "\n",
    "In this project you will be looking for insights in a dataset by creating aggregated bar charts, and distribution plots with Seaborn's `sns.boxplot()` and `sns.violinplot()`.\n",
    "\n",
    "The dataset is from the <a href = \"http://apps.who.int/gho/data/node.main.WSHWATER?lang=en\" target = \"_blank\"> World Health Organization </a> and it contains information on basic and safely managed drinking water services \n",
    "by country. \n",
    "\n",
    "Some of the steps below will have hidden hints that you can access if you need them. Hints will look like this:\n",
    "\n",
    "Hint:<font color=white> Great job, you didn't even need a hint to find the hint!</font>\n",
    "\n",
    "The actual hint follows the word 'Hint:' and is in white text. To reveal the hint drag your cursor across the text to highlight and reveal it. Try highlighting the entire hint above to see how they work.\n",
    "\n",
    "**A Note On `plt.show()`:** You may be used to displaying your plots with the code `plt.show()`; when using this IPython Jupyter notebook an inline backend has been invoked removing the necessity of calling show after each plot. You should be able to render your Seaborn plots simply by running the cell with the code for your plot. \n",
    "\n",
    "If you have issues rendering your plot you can either try adding `plt.show()` to a cell, or you can manually invoke the inline backend by adding the following line of code to the cell where you import python modules.\n",
    "\n",
    "`%matplotlib inline`"
   ]
  },
  {
   "cell_type": "markdown",
   "metadata": {},
   "source": [
    "## Step 1 Import Python Modules\n",
    "Import the modules that you'll be using in this project:\n",
    "- `from matplotlib import pyplot as plt`\n",
    "- `import pandas as pd`\n",
    "- `import seaborn as sns`"
   ]
  },
  {
   "cell_type": "code",
   "execution_count": null,
   "metadata": {},
   "outputs": [],
   "source": []
  },
  {
   "cell_type": "markdown",
   "metadata": {},
   "source": [
    "## Step 2 Ingest The Data\n",
    "Load **clean_water.csv** into a DataFrame called `df`. Then, quickly inspect the DataFrame using `.head()`.\n",
    "\n",
    "Hint:<font color=white> Use pd.read_csv()</font>"
   ]
  },
  {
   "cell_type": "code",
   "execution_count": null,
   "metadata": {},
   "outputs": [],
   "source": []
  },
  {
   "cell_type": "markdown",
   "metadata": {},
   "source": [
    "## Step 3 Examine The Data\n",
    "\n",
    "It may be easier to understand the dataset if you look at the raw CSV file on your local machine. You can find **clean_water.csv** in the project download folder.\n",
    "\n",
    "### Overview of Dataset:\n",
    "\n",
    "The data values themselves represent the percent **(%)** of a countries population using at least basic drinking-water services.\n",
    "\n",
    "For more information on how the metric is determined see the <a href = \"http://apps.who.int/gho/data/node.wrapper.imr?x-id=4818\" target = \"_blank\"> \"Indicator Metdata Registry\".</a>\n",
    "\n",
    "Print the first 50 rows of `df` using `.head()`"
   ]
  },
  {
   "cell_type": "code",
   "execution_count": null,
   "metadata": {},
   "outputs": [],
   "source": []
  },
  {
   "cell_type": "markdown",
   "metadata": {},
   "source": [
    "### Notice:\n",
    "For each of the five countries represented there is data for the years 2000-2015, with each years having three values: rural, urban, and the total percentage of people using at least basic drinking-water services."
   ]
  },
  {
   "cell_type": "markdown",
   "metadata": {},
   "source": [
    "## Step 4 Barplots"
   ]
  },
  {
   "cell_type": "markdown",
   "metadata": {},
   "source": [
    "Make a bar plot with Seaborn to see how each of the five countries stack up in rural, urban, and total areas having clean drinking water.\n",
    "\n",
    "We have set up a figure for you to plot on. Use `sns.barplot()` with the following arguments:\n",
    "\n",
    "- `x` set to `country`\n",
    "- `y` set to `value`\n",
    "- hue set to `area`\n",
    "- data set to `df`"
   ]
  },
  {
   "cell_type": "code",
   "execution_count": 2,
   "metadata": {},
   "outputs": [],
   "source": [
    "f, ax = plt.subplots(figsize=(25, 15))\n"
   ]
  },
  {
   "cell_type": "markdown",
   "metadata": {},
   "source": [
    "### Styling With Color Palette\n",
    "\n",
    "We are interested in comparing and looking for patterns amongst the different areas within distinct countries so a qualitative color palette will probably be most effective in visualizing this data for our purposes. You can read more about <a href = \"https://seaborn.pydata.org/tutorial/color_palettes.html#qualitative-color-palettes\" target = \"_blank\">qualitative color palettes in the Seaborn documentation.</a>\n",
    "\n",
    "### Adding Meaningful Names To Axes\n",
    "\n",
    "If you look at the y-axis of the bar plot above, you will see the label is the same as the column name in our data: `value`. While this is a good name for coding with the DataFrame, it is not descriptive enough to be helpful as a marker in the visualization of the data. The label for axes can be manually overridden using `ax.set()`, which you can pass an argument for `xlabel` and or `ylabel`.\n",
    "\n",
    "A) Set a different color palette using `sns.set_palette()`. You can use any of the Color Brewer qualitative color palettes:\n",
    "\n",
    "- Set1\n",
    "- Set2\n",
    "- Set3\n",
    "- Pastel1\n",
    "- Pastel2\n",
    "- Dark2\n",
    "- Accent\n",
    "\n",
    "\n",
    "B) Plot a barplot but this time setting `sns.barplot()` equal to `ax` so you can access the axes properties using `ax.set()` on the next line of code.\n",
    "\n",
    "C) Rename the y-axis label something more descriptive than `value`. For example: `(%) of population using clean water`\n",
    " \n",
    "Hint:  <font color=white>Use ax.set(ylabel=\"descriptive label\") </font>"
   ]
  },
  {
   "cell_type": "code",
   "execution_count": 3,
   "metadata": {},
   "outputs": [],
   "source": [
    "# set color palette\n",
    "\n",
    "# create figure and axes\n",
    "f, ax = plt.subplots(figsize=(25, 15))\n",
    "\n",
    "# barplot goes here\n",
    "\n",
    "# set new ylabel here\n"
   ]
  },
  {
   "cell_type": "markdown",
   "metadata": {},
   "source": [
    "## Step 5 Boxplots\n",
    "\n",
    "According to the Seaborn documentation:\n",
    "> \"A box plot (or box-and-whisker plot) shows the distribution of quantitative data in a way that facilitates comparisons between variables or across levels of a categorical variable. \"\n",
    "\n",
    "\n",
    "Make a boxplot to compare the distribution of rural, urban, and total clean drinking water by country.\n",
    "\n",
    "We have set up a figure for you to plot on. Use `sns.boxplot()` with the following arguments:\n",
    "\n",
    "- `x` set to country\n",
    "- `y` set to value\n",
    "- `hue` set to area\n",
    "- `data` set to df\n",
    "\n",
    "As a reminder, `sns.boxplot()` can take the same parameters as `sns.barplot()` in exactly the same way. In fact, the only difference between the code for this box plot and the bar plot above will be the `.boxplot()` instead of `.barplot()`\n",
    "\n",
    "*Optional: You may set a new color palette if you would like using `sns.set_palette()`.*\n"
   ]
  },
  {
   "cell_type": "code",
   "execution_count": 4,
   "metadata": {},
   "outputs": [],
   "source": [
    "# f, ax = plt.subplots(figsize=(16, 10))\n",
    "\n",
    "# ax.set(ylabel=\"(%) of population using clean water\")"
   ]
  },
  {
   "cell_type": "markdown",
   "metadata": {},
   "source": [
    "## Step 6 Update DataFrame"
   ]
  },
  {
   "cell_type": "markdown",
   "metadata": {},
   "source": [
    "Notice in the plot above that the United States distribution is barely visible. That is because nearly 100% of the population across urban and rural areas in the Unites States have clean drinking water for all the years the data spans. \n",
    "\n",
    "Let's take the United States out of the DataFrame and make another box plot so we can focus on the countries with a more larger distribution.\n",
    "\n",
    "To remove any row that has a value of United States of America for country:\n",
    "\n",
    "Filter the DataFrame `df` and assign it back to the original DataFrame using the syntax:\n",
    "`df=df[<filter>]` \n",
    "\n",
    "In the place of `<filter>` use Pandas to create a filter so that `df` is a copy of itself except for the rows where the value for  `country` is `United States of America`.\n",
    "\n",
    "\n",
    "\n",
    "Hint: <font color=white> df= df[df[\"country\"] != \"value to exclude\"]</font>"
   ]
  },
  {
   "cell_type": "code",
   "execution_count": null,
   "metadata": {},
   "outputs": [],
   "source": []
  },
  {
   "cell_type": "markdown",
   "metadata": {},
   "source": [
    "### Replot \n",
    "Now, create the same box plot as above with the revised DataFrame, and add a little style with `sns.set_context()` and `sns.set_palette()`.\n",
    "\n",
    "- Set the context to `poster`\n",
    "- Set the palette to `Paired`\n",
    "- Create a `boxplot()` with:\n",
    "    - `x` set to country\n",
    "    - `y` set to value\n",
    "    - `hue` set to area\n",
    "    - `data` set to df"
   ]
  },
  {
   "cell_type": "code",
   "execution_count": 6,
   "metadata": {},
   "outputs": [],
   "source": [
    "f, ax = plt.subplots(figsize=(16, 10))\n",
    "# set context here\n",
    "# set palette here\n",
    "\n",
    "ax.set(ylabel=\"(%) of population using clean water\")"
   ]
  },
  {
   "cell_type": "markdown",
   "metadata": {},
   "source": [
    "### Notice:\n",
    "Zimbabwe has the biggest difference in the distributions of the rural and urban categories. Over 90% of the urban population of Zimbabwe has had access to clean drinking water over the years 2000-2016, while less than 60% of the rural population has. \n"
   ]
  },
  {
   "cell_type": "markdown",
   "metadata": {},
   "source": [
    "## Step 7 A Different Boxplot View Of The Data "
   ]
  },
  {
   "cell_type": "markdown",
   "metadata": {},
   "source": [
    "So far we have been visualizing the distribution of each country for the rural, urban, and total values. Another way we might want to visualize the data is to show the distribution of each of the three areas by country.\n",
    "\n",
    "At the top of the cell below, set the context of the plot to `poster`.\n",
    "\n",
    "Then, below the line of code that creates the figure, create a boxplot that shows the distribution of each of the three areas by country, with `area` on the x-axis, `value` on the y-axis, and `hue` set to `country`. `data` will still be equal to `df`.\n",
    "\n",
    "*Optional: You can also set the palette for a box plot by passing the `palette` argument to `sns.boxplot()`. Try adding `palette=\"Dark2\"` as the last argument in `sns.boxplot()`.*"
   ]
  },
  {
   "cell_type": "code",
   "execution_count": 7,
   "metadata": {},
   "outputs": [],
   "source": [
    "\n",
    "# you can change the background style easily.\n",
    "# sns.set_style(\"whitegrid\")\n",
    "f, ax = plt.subplots(figsize=(16, 10))\n",
    "\n",
    "# box plot goes here\n",
    "\n",
    "\n",
    "ax.set(ylabel=\"(%) of population using clean water\")"
   ]
  },
  {
   "cell_type": "markdown",
   "metadata": {},
   "source": [
    "How does this plot visualize the same data differently than the one above?"
   ]
  },
  {
   "cell_type": "code",
   "execution_count": null,
   "metadata": {},
   "outputs": [],
   "source": []
  },
  {
   "cell_type": "markdown",
   "metadata": {},
   "source": [
    "## Step 8 Violin plots\n",
    "\n",
    "\n",
    "Another way to visualize distribution data is with a violin plot. We could make the box plot above into a violin plot simply by changing `.boxplot()` to `.violinplot()`.\n",
    "\n",
    "Copy and paste the line of code used to create the box plot above into the cell below. Change the line of code so that you create a violin plot, instead of a box plot.\n",
    "\n",
    "`sns.barplot(x=\"area\", y = \"value\", hue = \"country\", data=df, palette=\"Set2\")`"
   ]
  },
  {
   "cell_type": "code",
   "execution_count": 8,
   "metadata": {},
   "outputs": [],
   "source": [
    "# uncomment the line of code below to reset the background and remove the grid lines\n",
    "# sns.set_style(\"white\")\n",
    "sns.set_context(\"poster\")\n",
    "f, ax = plt.subplots(figsize=(18, 15))\n",
    "\n",
    "ax.set(ylabel=\"(%) of population using clean water\")"
   ]
  },
  {
   "cell_type": "markdown",
   "metadata": {},
   "source": [
    "### Step 9 Focus In On Mexico\n",
    "\n",
    "A violin plot might be more useful if we focus in on the data for one country.\n",
    "\n",
    "Use Pandas to create a DataFrame named `df_mexico` that is equal to only the rows of `df` where the value in the `country` column is equal to `Mexico`.\n",
    "\n",
    "Hint: <font color=white>new_dataframe = df[df[\"country\"] == \"Target\"]</font>"
   ]
  },
  {
   "cell_type": "code",
   "execution_count": null,
   "metadata": {},
   "outputs": [],
   "source": []
  },
  {
   "cell_type": "markdown",
   "metadata": {},
   "source": [
    "Create a violin plot that visualizes the rural, urban, and total values for just Mexico.  \n",
    "\n",
    "\n",
    "Hint: <font color=white>country should be on the x-axis, value on the y-axis, hue should be set to area, and data should equal your new DataFrame for just Mexico. </font>"
   ]
  },
  {
   "cell_type": "code",
   "execution_count": 9,
   "metadata": {},
   "outputs": [],
   "source": [
    "f, ax = plt.subplots(figsize=(16, 10))\n",
    "sns.set_context(\"poster\")\n",
    "sns.violinplot(x=\"country\", y = \"value\", hue = \"area\", data=df_mexico, palette=\"Set2\")\n",
    "\n",
    "ax.set(ylabel=\"(%) of population using clean water\")"
   ]
  },
  {
   "cell_type": "markdown",
   "metadata": {},
   "source": [
    "## You're done! Congratulations!\n",
    "\n",
    "### How do you feel?"
   ]
  },
  {
   "cell_type": "code",
   "execution_count": null,
   "metadata": {},
   "outputs": [],
   "source": []
  },
  {
   "cell_type": "markdown",
   "metadata": {},
   "source": [
    "## Bonus!\n",
    "\n",
    "We could isolate the data even further and plot just the rural and urban values for Mexico, together in a split violin plot.\n",
    "\n",
    "To do this we would first use Pandas to filter out the rows of the `df_mexico` DataFrame where `area` is equal to `Total`. It would look like this:\n",
    "\n",
    "`df_mexico = df_mexico[df_mexico[\"area\"] !=\"Total\"]`\n",
    "\n",
    "You can do try this by running the code in the cell below."
   ]
  },
  {
   "cell_type": "code",
   "execution_count": 10,
   "metadata": {},
   "outputs": [],
   "source": [
    "df_mexico = df_mexico[df_mexico[\"area\"] !=\"Total\"]\n",
    "df_mexico.head()"
   ]
  },
  {
   "cell_type": "markdown",
   "metadata": {},
   "source": [
    "Next we would use `sns.violinplot()` exactly as we did before, but we would add the argument `split = True`, to create a split violin plot.\n",
    "\n",
    "Run the code in the cell below to see a split violin plot."
   ]
  },
  {
   "cell_type": "code",
   "execution_count": 11,
   "metadata": {},
   "outputs": [],
   "source": [
    "f, ax = plt.subplots(figsize=(16, 10))\n",
    "sns.set_context(\"poster\")\n",
    "sns.violinplot(x=\"country\", y = \"value\", hue = \"area\", data=df_mexico, split = True, palette=\"Set2\")\n",
    "\n",
    "ax.set(ylabel=\"(%) of population using clean water\")"
   ]
  },
  {
   "cell_type": "markdown",
   "metadata": {},
   "source": [
    "### Bonus Question:\n",
    "What does the visualization of Mexico's urban vs. rural access to clean drinking water reveal? "
   ]
  },
  {
   "cell_type": "code",
   "execution_count": null,
   "metadata": {},
   "outputs": [],
   "source": []
  },
  {
   "cell_type": "markdown",
   "metadata": {},
   "source": [
    "## Ok now you're really, all the way done! Great work!"
   ]
  }
 ],
 "metadata": {
  "kernelspec": {
   "display_name": "Python 3",
   "language": "python",
   "name": "python3"
  },
  "language_info": {
   "codemirror_mode": {
    "name": "ipython",
    "version": 3
   },
   "file_extension": ".py",
   "mimetype": "text/x-python",
   "name": "python",
   "nbconvert_exporter": "python",
   "pygments_lexer": "ipython3",
   "version": "3.6.4"
  }
 },
 "nbformat": 4,
 "nbformat_minor": 2
}
