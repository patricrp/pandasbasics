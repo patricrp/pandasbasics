{
 "cells": [
  {
   "cell_type": "code",
   "execution_count": 2,
   "metadata": {},
   "outputs": [],
   "source": [
    "# import libraries\n",
    "import matplotlib.pyplot as plt\n",
    "import pandas as pd\n",
    "import seaborn as sns"
   ]
  },
  {
   "cell_type": "code",
   "execution_count": 381,
   "metadata": {},
   "outputs": [
    {
     "data": {
      "text/html": [
       "<div>\n",
       "<style scoped>\n",
       "    .dataframe tbody tr th:only-of-type {\n",
       "        vertical-align: middle;\n",
       "    }\n",
       "\n",
       "    .dataframe tbody tr th {\n",
       "        vertical-align: top;\n",
       "    }\n",
       "\n",
       "    .dataframe thead th {\n",
       "        text-align: right;\n",
       "    }\n",
       "</style>\n",
       "<table border=\"1\" class=\"dataframe\">\n",
       "  <thead>\n",
       "    <tr style=\"text-align: right;\">\n",
       "      <th></th>\n",
       "      <th>Country Name</th>\n",
       "      <th>Country Code</th>\n",
       "      <th>1960</th>\n",
       "      <th>1961</th>\n",
       "      <th>1962</th>\n",
       "      <th>1963</th>\n",
       "      <th>1964</th>\n",
       "      <th>1965</th>\n",
       "      <th>1966</th>\n",
       "      <th>1967</th>\n",
       "      <th>...</th>\n",
       "      <th>2007</th>\n",
       "      <th>2008</th>\n",
       "      <th>2009</th>\n",
       "      <th>2010</th>\n",
       "      <th>2011</th>\n",
       "      <th>2012</th>\n",
       "      <th>2013</th>\n",
       "      <th>2014</th>\n",
       "      <th>2015</th>\n",
       "      <th>2016</th>\n",
       "    </tr>\n",
       "  </thead>\n",
       "  <tbody>\n",
       "    <tr>\n",
       "      <th>0</th>\n",
       "      <td>China</td>\n",
       "      <td>CHN</td>\n",
       "      <td>5.971647e+10</td>\n",
       "      <td>5.005687e+10</td>\n",
       "      <td>4.720936e+10</td>\n",
       "      <td>5.070680e+10</td>\n",
       "      <td>5.970834e+10</td>\n",
       "      <td>7.043627e+10</td>\n",
       "      <td>7.672029e+10</td>\n",
       "      <td>7.288163e+10</td>\n",
       "      <td>...</td>\n",
       "      <td>3.552182e+12</td>\n",
       "      <td>4.598206e+12</td>\n",
       "      <td>5.109954e+12</td>\n",
       "      <td>6.100620e+12</td>\n",
       "      <td>7.572554e+12</td>\n",
       "      <td>8.560547e+12</td>\n",
       "      <td>9.607224e+12</td>\n",
       "      <td>1.048237e+13</td>\n",
       "      <td>1.106467e+13</td>\n",
       "      <td>1.119915e+13</td>\n",
       "    </tr>\n",
       "    <tr>\n",
       "      <th>1</th>\n",
       "      <td>Dominican Republic</td>\n",
       "      <td>DOM</td>\n",
       "      <td>6.723997e+08</td>\n",
       "      <td>6.541002e+08</td>\n",
       "      <td>8.241000e+08</td>\n",
       "      <td>9.407999e+08</td>\n",
       "      <td>1.025600e+09</td>\n",
       "      <td>8.881000e+08</td>\n",
       "      <td>9.839000e+08</td>\n",
       "      <td>1.034800e+09</td>\n",
       "      <td>...</td>\n",
       "      <td>4.416968e+10</td>\n",
       "      <td>4.828897e+10</td>\n",
       "      <td>4.837656e+10</td>\n",
       "      <td>5.395458e+10</td>\n",
       "      <td>5.774668e+10</td>\n",
       "      <td>6.061365e+10</td>\n",
       "      <td>6.196594e+10</td>\n",
       "      <td>6.523103e+10</td>\n",
       "      <td>6.810262e+10</td>\n",
       "      <td>7.158355e+10</td>\n",
       "    </tr>\n",
       "    <tr>\n",
       "      <th>2</th>\n",
       "      <td>Mexico</td>\n",
       "      <td>MEX</td>\n",
       "      <td>1.305617e+10</td>\n",
       "      <td>1.415395e+10</td>\n",
       "      <td>1.522106e+10</td>\n",
       "      <td>1.693634e+10</td>\n",
       "      <td>2.007014e+10</td>\n",
       "      <td>2.182971e+10</td>\n",
       "      <td>2.433723e+10</td>\n",
       "      <td>2.655638e+10</td>\n",
       "      <td>...</td>\n",
       "      <td>1.043471e+12</td>\n",
       "      <td>1.101275e+12</td>\n",
       "      <td>8.949487e+11</td>\n",
       "      <td>1.051129e+12</td>\n",
       "      <td>1.171188e+12</td>\n",
       "      <td>1.186598e+12</td>\n",
       "      <td>1.261982e+12</td>\n",
       "      <td>1.298461e+12</td>\n",
       "      <td>1.152264e+12</td>\n",
       "      <td>1.046923e+12</td>\n",
       "    </tr>\n",
       "    <tr>\n",
       "      <th>3</th>\n",
       "      <td>United States</td>\n",
       "      <td>USA</td>\n",
       "      <td>5.433000e+11</td>\n",
       "      <td>5.633000e+11</td>\n",
       "      <td>6.051000e+11</td>\n",
       "      <td>6.386000e+11</td>\n",
       "      <td>6.858000e+11</td>\n",
       "      <td>7.437000e+11</td>\n",
       "      <td>8.150000e+11</td>\n",
       "      <td>8.617000e+11</td>\n",
       "      <td>...</td>\n",
       "      <td>1.447764e+13</td>\n",
       "      <td>1.471858e+13</td>\n",
       "      <td>1.441874e+13</td>\n",
       "      <td>1.496437e+13</td>\n",
       "      <td>1.551793e+13</td>\n",
       "      <td>1.615526e+13</td>\n",
       "      <td>1.669152e+13</td>\n",
       "      <td>1.742761e+13</td>\n",
       "      <td>1.812071e+13</td>\n",
       "      <td>1.862448e+13</td>\n",
       "    </tr>\n",
       "    <tr>\n",
       "      <th>4</th>\n",
       "      <td>Zimbabwe</td>\n",
       "      <td>ZWE</td>\n",
       "      <td>1.052990e+09</td>\n",
       "      <td>1.096647e+09</td>\n",
       "      <td>1.117602e+09</td>\n",
       "      <td>1.159512e+09</td>\n",
       "      <td>1.217138e+09</td>\n",
       "      <td>1.311436e+09</td>\n",
       "      <td>1.281750e+09</td>\n",
       "      <td>1.397002e+09</td>\n",
       "      <td>...</td>\n",
       "      <td>5.291950e+09</td>\n",
       "      <td>4.415703e+09</td>\n",
       "      <td>8.621574e+09</td>\n",
       "      <td>1.014186e+10</td>\n",
       "      <td>1.209845e+10</td>\n",
       "      <td>1.424249e+10</td>\n",
       "      <td>1.545177e+10</td>\n",
       "      <td>1.589105e+10</td>\n",
       "      <td>1.630467e+10</td>\n",
       "      <td>1.661996e+10</td>\n",
       "    </tr>\n",
       "  </tbody>\n",
       "</table>\n",
       "<p>5 rows × 59 columns</p>\n",
       "</div>"
      ],
      "text/plain": [
       "         Country Name Country Code          1960          1961          1962  \\\n",
       "0               China          CHN  5.971647e+10  5.005687e+10  4.720936e+10   \n",
       "1  Dominican Republic          DOM  6.723997e+08  6.541002e+08  8.241000e+08   \n",
       "2              Mexico          MEX  1.305617e+10  1.415395e+10  1.522106e+10   \n",
       "3       United States          USA  5.433000e+11  5.633000e+11  6.051000e+11   \n",
       "4            Zimbabwe          ZWE  1.052990e+09  1.096647e+09  1.117602e+09   \n",
       "\n",
       "           1963          1964          1965          1966          1967  \\\n",
       "0  5.070680e+10  5.970834e+10  7.043627e+10  7.672029e+10  7.288163e+10   \n",
       "1  9.407999e+08  1.025600e+09  8.881000e+08  9.839000e+08  1.034800e+09   \n",
       "2  1.693634e+10  2.007014e+10  2.182971e+10  2.433723e+10  2.655638e+10   \n",
       "3  6.386000e+11  6.858000e+11  7.437000e+11  8.150000e+11  8.617000e+11   \n",
       "4  1.159512e+09  1.217138e+09  1.311436e+09  1.281750e+09  1.397002e+09   \n",
       "\n",
       "       ...               2007          2008          2009          2010  \\\n",
       "0      ...       3.552182e+12  4.598206e+12  5.109954e+12  6.100620e+12   \n",
       "1      ...       4.416968e+10  4.828897e+10  4.837656e+10  5.395458e+10   \n",
       "2      ...       1.043471e+12  1.101275e+12  8.949487e+11  1.051129e+12   \n",
       "3      ...       1.447764e+13  1.471858e+13  1.441874e+13  1.496437e+13   \n",
       "4      ...       5.291950e+09  4.415703e+09  8.621574e+09  1.014186e+10   \n",
       "\n",
       "           2011          2012          2013          2014          2015  \\\n",
       "0  7.572554e+12  8.560547e+12  9.607224e+12  1.048237e+13  1.106467e+13   \n",
       "1  5.774668e+10  6.061365e+10  6.196594e+10  6.523103e+10  6.810262e+10   \n",
       "2  1.171188e+12  1.186598e+12  1.261982e+12  1.298461e+12  1.152264e+12   \n",
       "3  1.551793e+13  1.615526e+13  1.669152e+13  1.742761e+13  1.812071e+13   \n",
       "4  1.209845e+10  1.424249e+10  1.545177e+10  1.589105e+10  1.630467e+10   \n",
       "\n",
       "           2016  \n",
       "0  1.119915e+13  \n",
       "1  7.158355e+10  \n",
       "2  1.046923e+12  \n",
       "3  1.862448e+13  \n",
       "4  1.661996e+10  \n",
       "\n",
       "[5 rows x 59 columns]"
      ]
     },
     "execution_count": 381,
     "metadata": {},
     "output_type": "execute_result"
    }
   ],
   "source": [
    "# import 3 data sets\n",
    "# 1 gdp\n",
    "df_gdp = pd.read_csv('gdpData.csv')\n",
    "df_gdp.fillna(0)\n",
    "df_gdp.head()"
   ]
  },
  {
   "cell_type": "markdown",
   "metadata": {},
   "source": [
    "# Re-shape DataFrame for our Seaborn use"
   ]
  },
  {
   "cell_type": "code",
   "execution_count": 382,
   "metadata": {},
   "outputs": [],
   "source": [
    "# Make lists of data for each column I want in new DF\n",
    "\n",
    "# 1 Country Name and Code\n",
    "# 2 Country GDP and Years\n",
    "\n",
    "# 1.a\n",
    "# capture each of the rows as a list\n",
    "as_lists = []\n",
    "# create a list for the values of each row \n",
    "for index, row in df_gdp.iterrows() :\n",
    "    # append the list of each rows values to the list of lists\n",
    "    as_lists.append(list(row))\n"
   ]
  },
  {
   "cell_type": "code",
   "execution_count": 383,
   "metadata": {},
   "outputs": [
    {
     "name": "stdout",
     "output_type": "stream",
     "text": [
      "['China', 'Dominican Republic', 'Mexico', 'United States', 'Zimbabwe']\n",
      "['CHN', 'DOM', 'MEX', 'USA', 'ZWE']\n"
     ]
    }
   ],
   "source": [
    "# 1.b \n",
    "# isolate country names and country codes in their own lists\n",
    "\n",
    "# holders for country name and code name\n",
    "name_holder = []\n",
    "code_holder= []\n",
    "\n",
    "# iterate through the list of lists to pull out the country name and country code\n",
    "for index, row in enumerate(as_lists):\n",
    "#     print(row)\n",
    "    name_holder.append(row.pop(0))\n",
    "    code_holder.append(row.pop(0))\n",
    "\n",
    "print(name_holder)\n",
    "print(code_holder)"
   ]
  },
  {
   "cell_type": "code",
   "execution_count": 387,
   "metadata": {},
   "outputs": [
    {
     "name": "stdout",
     "output_type": "stream",
     "text": [
      "285\n",
      "285\n"
     ]
    }
   ],
   "source": [
    "# 1.c \n",
    "# finalize lists for columns: country name and country code\n",
    "# for as many values as their are for each row, append the country name and country code to a new list\n",
    "\n",
    "country_name = []\n",
    "country_code = []\n",
    "country_gdp = []\n",
    "for index, row in enumerate(as_lists):\n",
    "#     print(len(gdp_values[index]))\n",
    "    \n",
    "    \n",
    "    for value in as_lists[index]:\n",
    "#     for value in row:\n",
    "        country_name.append(name_holder[index])\n",
    "        country_code.append(code_holder[index])\n",
    "#         country_year.append(years[index])\n",
    "#         country_gdp.append(gdp_values[index])\n",
    "#         country_gdp.append(as_lists[index])\n",
    "  \n",
    "# print(country_year)\n",
    "\n",
    "print(len(country_code))\n",
    "print(len(country_name))\n",
    "\n",
    "# print(len(country_gdp))\n",
    "\n",
    "#     print(row[0])\n"
   ]
  },
  {
   "cell_type": "code",
   "execution_count": 388,
   "metadata": {},
   "outputs": [
    {
     "name": "stdout",
     "output_type": "stream",
     "text": [
      "285\n",
      "285\n"
     ]
    }
   ],
   "source": [
    "# 2 Country GDP and Years\n",
    "# 2.a\n",
    "# create a list of years\n",
    "\n",
    "# create a list from the second column head to the last column head\n",
    "years = list(df_gdp.iloc[:,2:])\n",
    "\n",
    "# 2.b \n",
    "# alligning years with gdp\n",
    "gdp_values = [] \n",
    "gdp_years = []\n",
    "\n",
    "# iterate through the rows, and for each row append the list of years to a new list\n",
    "for index, row in enumerate(as_lists):\n",
    "    gdp_years.append(years)\n",
    "# unpack gdp values from their lists to make one big new list with all the values\n",
    "    for value in as_lists[index]:\n",
    "        gdp_values.append(value)\n",
    "        \n",
    "# unpack the years\n",
    "country_year = []\n",
    "for index, row in enumerate(gdp_years):\n",
    "    for year in row:\n",
    "        country_year.append(year)\n",
    "        \n",
    "print(len(country_year))\n",
    "print(len(gdp_values))\n"
   ]
  },
  {
   "cell_type": "markdown",
   "metadata": {},
   "source": [
    "# Create A Pandas DataFrame"
   ]
  },
  {
   "cell_type": "code",
   "execution_count": 404,
   "metadata": {},
   "outputs": [
    {
     "name": "stdout",
     "output_type": "stream",
     "text": [
      "<class 'pandas.core.frame.DataFrame'>\n",
      "RangeIndex: 285 entries, 0 to 284\n",
      "Data columns (total 3 columns):\n",
      "name    285 non-null object\n",
      "gdp     285 non-null float64\n",
      "year    285 non-null int64\n",
      "dtypes: float64(1), int64(1), object(1)\n",
      "memory usage: 6.8+ KB\n",
      "None\n"
     ]
    }
   ],
   "source": [
    "# make an object (or a dict of dicts?) from lists created above\n",
    "d = {\n",
    "    \"name\":country_name, \"code\": country_code, \"gdp\":  gdp_values, \"year\": country_year\n",
    "}\n",
    "\n",
    "# use `pd.DataFrame()` to create DataFrame from dict\n",
    "df = pd.DataFrame(data = d)\n",
    "df[\"year\"] = df[\"year\"].astype(int)\n",
    "df2 = df[[\"name\", \"gdp\", \"year\"]]\n",
    "df2.head(10)\n",
    "print(df2.info())\n",
    "    "
   ]
  },
  {
   "cell_type": "markdown",
   "metadata": {},
   "source": [
    "# Plot with Seaborn"
   ]
  },
  {
   "cell_type": "code",
   "execution_count": 428,
   "metadata": {},
   "outputs": [
    {
     "data": {
      "text/plain": [
       "<seaborn.axisgrid.FacetGrid at 0x1a1fb2c358>"
      ]
     },
     "execution_count": 428,
     "metadata": {},
     "output_type": "execute_result"
    },
    {
     "data": {
      "image/png": "[encoded data removed]",
      "text/plain": [
       "<matplotlib.figure.Figure at 0x1a1fe7bcc0>"
      ]
     },
     "metadata": {},
     "output_type": "display_data"
    }
   ],
   "source": [
    "#plot with seaborn\n",
    "sns.set(context='notebook', style='darkgrid', font='sans-serif')\n",
    "# ax = sns.lmplot(x=\"name\", y= \"gdp\", data=df2)\n",
    "# f, ax = plt.subplots(figsize=(5,6))\n",
    "\n",
    "# sns.barplot(x=\"Country Name\", y= \"2000\", data = df_gdp, palette = \"BuGn_r\")\n",
    "# sns.jointplot(\"gdp\", \"year\", kind=\"hex\",  data = df2, color=\"#4CB391\")\n",
    "# sns.violinplot(x = \"year\", y= \"gdp\", hue = \"name\", data = df2)\n",
    "# sns.violinplot(data = df2)\n",
    "sns.lmplot(x = \"year\", y= \"gdp\", hue = \"name\", data = df2)\n",
    "# plt.show()"
   ]
  },
  {
   "cell_type": "markdown",
   "metadata": {},
   "source": [
    "## Create Second DataFrame"
   ]
  },
  {
   "cell_type": "code",
   "execution_count": 3,
   "metadata": {},
   "outputs": [
    {
     "data": {
      "text/html": [
       "<div>\n",
       "<style scoped>\n",
       "    .dataframe tbody tr th:only-of-type {\n",
       "        vertical-align: middle;\n",
       "    }\n",
       "\n",
       "    .dataframe tbody tr th {\n",
       "        vertical-align: top;\n",
       "    }\n",
       "\n",
       "    .dataframe thead th {\n",
       "        text-align: right;\n",
       "    }\n",
       "</style>\n",
       "<table border=\"1\" class=\"dataframe\">\n",
       "  <thead>\n",
       "    <tr style=\"text-align: right;\">\n",
       "      <th></th>\n",
       "      <th>Country</th>\n",
       "      <th>Year</th>\n",
       "      <th>Life expectancy at birth (years)</th>\n",
       "    </tr>\n",
       "  </thead>\n",
       "  <tbody>\n",
       "    <tr>\n",
       "      <th>0</th>\n",
       "      <td>Mexico</td>\n",
       "      <td>2015.0</td>\n",
       "      <td>76.7</td>\n",
       "    </tr>\n",
       "    <tr>\n",
       "      <th>1</th>\n",
       "      <td>Mexico</td>\n",
       "      <td>2015.0</td>\n",
       "      <td>76.7</td>\n",
       "    </tr>\n",
       "    <tr>\n",
       "      <th>2</th>\n",
       "      <td>Mexico</td>\n",
       "      <td>2014.0</td>\n",
       "      <td>76.6</td>\n",
       "    </tr>\n",
       "    <tr>\n",
       "      <th>3</th>\n",
       "      <td>Mexico</td>\n",
       "      <td>2013.0</td>\n",
       "      <td>76.6</td>\n",
       "    </tr>\n",
       "    <tr>\n",
       "      <th>4</th>\n",
       "      <td>Mexico</td>\n",
       "      <td>2012.0</td>\n",
       "      <td>76.3</td>\n",
       "    </tr>\n",
       "  </tbody>\n",
       "</table>\n",
       "</div>"
      ],
      "text/plain": [
       "  Country    Year  Life expectancy at birth (years)\n",
       "0  Mexico  2015.0                              76.7\n",
       "1  Mexico  2015.0                              76.7\n",
       "2  Mexico  2014.0                              76.6\n",
       "3  Mexico  2013.0                              76.6\n",
       "4  Mexico  2012.0                              76.3"
      ]
     },
     "execution_count": 3,
     "metadata": {},
     "output_type": "execute_result"
    }
   ],
   "source": [
    "df_life = pd.read_csv('lifeData.csv')\n",
    "df_life.head()\n",
    "\n",
    "# year to string"
   ]
  },
  {
   "cell_type": "code",
   "execution_count": null,
   "metadata": {},
   "outputs": [],
   "source": []
  }
 ],
 "metadata": {
  "kernelspec": {
   "display_name": "Python 3",
   "language": "python",
   "name": "python3"
  },
  "language_info": {
   "codemirror_mode": {
    "name": "ipython",
    "version": 3
   },
   "file_extension": ".py",
   "mimetype": "text/x-python",
   "name": "python",
   "nbconvert_exporter": "python",
   "pygments_lexer": "ipython3",
   "version": "3.6.4"
  }
 },
 "nbformat": 4,
 "nbformat_minor": 2
}
