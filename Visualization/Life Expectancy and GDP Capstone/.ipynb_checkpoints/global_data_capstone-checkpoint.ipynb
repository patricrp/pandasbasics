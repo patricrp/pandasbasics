{
 "cells": [
  {
   "cell_type": "markdown",
   "metadata": {},
   "source": [
    "# Introduction\n",
    "\n",
    "For this project, you will act as a data researcher for the **I**nternational **H**eadquarter of **E**mpathy **A**nd **L**ogic (**IHEAL**) . You will be helping them analyze data on GDP and life expectancy from the World Health Organization and the World Bank to support their case that there is a correlation or pattern between the GDP and life expectancy of a country.\n",
    "\n",
    "To quote the Vice President of Intuition and Systems at **IHEAL:**\n",
    "\n",
    "> \"We know in our hearts and minds that there is an unjust connection between the wealth of a nation, and the life of its people, but we can't get buy in from the people in power without the data to support this.\"\n",
    "\n",
    "During this project, you will analyze, prepare, and plot data,  and seek to answer questions in a meaningful way.\n",
    "\n",
    "After you perform analysis, you'll be creating a blog post to share on the **IHEAL** website.\n",
    "\n",
    "**BIG Question**: Is there a correlation between GDP and life expectancy of a country?\n",
    "\n",
    "GDP Source:[World Bank](https://data.worldbank.org/indicator/NY.GDP.MKTP.CD)national accounts data, and OECD National Accounts data files.\n",
    "\n",
    "Life expectancy Data Source: [World Health Organization](vhttp://apps.who.int/gho/data/node.main.688)\n"
   ]
  },
  {
   "cell_type": "markdown",
   "metadata": {},
   "source": [
    "## Step 1 Import Python Modules"
   ]
  },
  {
   "cell_type": "markdown",
   "metadata": {},
   "source": [
    "Import the modules that you'll be using in this project:\n",
    "- `from matplotlib import pyplot as plt`\n",
    "- `import pandas as pd`\n",
    "- `import seaborn as sns`"
   ]
  },
  {
   "cell_type": "code",
   "execution_count": null,
   "metadata": {},
   "outputs": [],
   "source": []
  },
  {
   "cell_type": "markdown",
   "metadata": {},
   "source": [
    "## Step 2 Ingest The Data"
   ]
  },
  {
   "cell_type": "markdown",
   "metadata": {},
   "source": [
    "To look for connections between GDP and life expectancy you will need to load the datasets into DataFrames so that they can be visualized.\n",
    "\n",
    "Load **gdp_data_washed.csv** into a DataFrame called `gdp`. Then, quickly inspect the DataFrame using `.head()`.\n",
    "\n",
    "Hint:<font color=white> Use pd.read_csv()</font>\n"
   ]
  },
  {
   "cell_type": "code",
   "execution_count": null,
   "metadata": {},
   "outputs": [],
   "source": []
  },
  {
   "cell_type": "markdown",
   "metadata": {},
   "source": [
    "Load **life_expectancy_data_washed.csv** into a DataFrame called `life`. Then, quickly inspect the DataFrame using `.head()`."
   ]
  },
  {
   "cell_type": "code",
   "execution_count": null,
   "metadata": {},
   "outputs": [],
   "source": []
  },
  {
   "cell_type": "markdown",
   "metadata": {},
   "source": [
    "## Step 3 Examine The Data"
   ]
  },
  {
   "cell_type": "markdown",
   "metadata": {},
   "source": [
    "The datasets are large and it may be easier to view the entire dataset locally on your computer. You can open the CSV files directly from the folder you downloaded for this project.\n",
    "\n",
    "Let's learn more about our data:\n",
    "- GDP stands for **G**ross **D**omestic **P**roduct. GDP is a monetary measure of the market value of all final goods and services produced in a time period. \n",
    "- The GDP values are in current US dollars."
   ]
  },
  {
   "cell_type": "markdown",
   "metadata": {},
   "source": [
    "Answer the following questions by inspecting the data in the file **gdp_data_washed.csv**."
   ]
  },
  {
   "cell_type": "markdown",
   "metadata": {},
   "source": [
    "What five countries are represented in the data?"
   ]
  },
  {
   "cell_type": "code",
   "execution_count": null,
   "metadata": {},
   "outputs": [],
   "source": []
  },
  {
   "cell_type": "markdown",
   "metadata": {},
   "source": [
    "What years are represented in the data?"
   ]
  },
  {
   "cell_type": "code",
   "execution_count": null,
   "metadata": {},
   "outputs": [],
   "source": []
  },
  {
   "cell_type": "markdown",
   "metadata": {},
   "source": [
    "Answer the following questions by inspecting the data in the file **life_expectancy_data_washed.csv**."
   ]
  },
  {
   "cell_type": "markdown",
   "metadata": {},
   "source": [
    "Check that the same five countries are represented in the data. \n",
    "\n",
    "Which of the five countries represented in the data, do you think would win in a soccer (fútbol) tournament?"
   ]
  },
  {
   "cell_type": "code",
   "execution_count": null,
   "metadata": {},
   "outputs": [],
   "source": []
  },
  {
   "cell_type": "markdown",
   "metadata": {},
   "source": [
    "How many rows are there for each country (careful, this one can be a bit tricky)?"
   ]
  },
  {
   "cell_type": "code",
   "execution_count": null,
   "metadata": {},
   "outputs": [],
   "source": []
  },
  {
   "cell_type": "markdown",
   "metadata": {},
   "source": [
    "What determines the order that each country's row entries are in. (What order are the 'China' entries in?)"
   ]
  },
  {
   "cell_type": "code",
   "execution_count": null,
   "metadata": {},
   "outputs": [],
   "source": []
  },
  {
   "cell_type": "markdown",
   "metadata": {},
   "source": [
    "## Step 4 Optimize The DataFrame\n",
    "\n",
    "Look at the column names of the DataFrame `life` using `.head()`. "
   ]
  },
  {
   "cell_type": "code",
   "execution_count": null,
   "metadata": {},
   "outputs": [],
   "source": []
  },
  {
   "cell_type": "markdown",
   "metadata": {},
   "source": [
    "What do you notice? The first two column names are one word each, and the third is five whole words long! `Life expectancy at birth (years)` is descriptive, which will be good for labeling the axis, but a little difficult to wrangle for coding the plot itself. \n",
    "\n",
    "**Optimize The DataFrame Part A:** \n",
    "\n",
    "Use Pandas to change the name of the last column to `LEABY`.\n",
    "\n",
    "Hint: Use `.rename()`. [You can read the documentation here.](https://pandas.pydata.org/pandas-docs/stable/generated/pandas.DataFrame.rename.html)). </font>"
   ]
  },
  {
   "cell_type": "code",
   "execution_count": null,
   "metadata": {},
   "outputs": [],
   "source": []
  },
  {
   "cell_type": "markdown",
   "metadata": {},
   "source": [
    "Run `life.head()` again to check your new column name worked."
   ]
  },
  {
   "cell_type": "code",
   "execution_count": null,
   "metadata": {},
   "outputs": [],
   "source": []
  },
  {
   "cell_type": "markdown",
   "metadata": {},
   "source": [
    "---"
   ]
  },
  {
   "cell_type": "markdown",
   "metadata": {},
   "source": [
    "**Optimize The DataFrame Part B:**  \n",
    "\n",
    "Call `.head()` on the DataFrame `gdp`."
   ]
  },
  {
   "cell_type": "code",
   "execution_count": null,
   "metadata": {},
   "outputs": [],
   "source": []
  },
  {
   "cell_type": "markdown",
   "metadata": {},
   "source": [
    "If you look at the two DataFrames, you can see that the `Year` column is in a different position in each one. Not including the index, `Year` is the second column in `life` and the third column in `gdp`. It will be easier to work with these DataFrames if they are set up as similarly as possible. \n",
    "\n",
    "Using Pandas rearrange the columns so that `Year` is the second column in `gdp`. Then check your work with `.head()`."
   ]
  },
  {
   "cell_type": "code",
   "execution_count": null,
   "metadata": {},
   "outputs": [],
   "source": []
  },
  {
   "cell_type": "markdown",
   "metadata": {},
   "source": [
    "## Step 5 Bar Charts To Compare Average"
   ]
  },
  {
   "cell_type": "markdown",
   "metadata": {},
   "source": [
    "To take a first high level look at both datasets, create a bar chart for each DataFrame:\n",
    "\n",
    "A) Creae a bar chart from the data in `gdp` using `Country` on the x-axis and `GDP` on the y-axis. "
   ]
  },
  {
   "cell_type": "code",
   "execution_count": null,
   "metadata": {},
   "outputs": [],
   "source": []
  },
  {
   "cell_type": "markdown",
   "metadata": {},
   "source": [
    "B) Create a bar chart using the data in `life` with `Country` on the x-axis and `LEABY` on the y-axis."
   ]
  },
  {
   "cell_type": "code",
   "execution_count": null,
   "metadata": {},
   "outputs": [],
   "source": []
  },
  {
   "cell_type": "markdown",
   "metadata": {},
   "source": [
    "What do you notice about the two bar charts? Do they look similar?"
   ]
  },
  {
   "cell_type": "code",
   "execution_count": null,
   "metadata": {},
   "outputs": [],
   "source": []
  },
  {
   "cell_type": "markdown",
   "metadata": {},
   "source": [
    "## Step 6 Box Plots To Compare Distributions "
   ]
  },
  {
   "cell_type": "markdown",
   "metadata": {},
   "source": [
    "Another way to compare two datasets is to visualize the distributions of each and to look for patterns in the shapes.\n",
    "\n",
    "We have added the code to instantiate a figure with two subplots below. Create a box plot for each DataFrame and set the `ax` argument for one equal to `ax` and the other equal to `ax2`."
   ]
  },
  {
   "cell_type": "code",
   "execution_count": 3,
   "metadata": {},
   "outputs": [],
   "source": [
    "# f, (ax, ax2) = plt.subplots(2,1, figsize=(15, 10)) \n"
   ]
  },
  {
   "cell_type": "markdown",
   "metadata": {},
   "source": [
    "What do you notice about the two sets of distributions? Do the box plots resemble each other?"
   ]
  },
  {
   "cell_type": "markdown",
   "metadata": {},
   "source": [
    "## Step 7 Point Plots GDP\n",
    "\n",
    "We want to compare the GDPs of the countries over time, in order to eventually look for correlation between GDP and life expectancy. \n",
    "\n",
    "Plot the `gdp` DataFrame on a Seaborn `.pointplot()`\n"
   ]
  },
  {
   "cell_type": "markdown",
   "metadata": {},
   "source": [
    "Start by setting the variables `f, ax` equal to `plt.subplots()`. This will instantiate a figure and give us access to the axes through the variable name `ax`. \n",
    "\n",
    "Then, set the size of the figure to 15x6 by passing `figsize=(15, 6)` to `plt.subplots()`.\n"
   ]
  },
  {
   "cell_type": "markdown",
   "metadata": {},
   "source": [
    "The syntax for a Seaborn point plot is:\n",
    "```python\n",
    "sns.pointplot(x=\"\", y=\"\", hue = \"\", data=)\n",
    "```\n",
    "Create a point plot from the DataFrame `gdp`, using the \"Year\" column for the `x` argument, the \"GDP\" column for the `y` argument, and the \"Country\" column for the `hue` argument. Use the variable `ax` for your plot, like this:\n",
    "```python\n",
    "ax = sns.pointplot()\n",
    "```\n"
   ]
  },
  {
   "cell_type": "code",
   "execution_count": null,
   "metadata": {},
   "outputs": [],
   "source": [
    "f, ax = plt.subplots(figsize=(15, 6)) \n",
    "ax = sns.pointplot(x=\"Year\", y=\"GDP\", hue = \"Country\", data=gdp)"
   ]
  },
  {
   "cell_type": "markdown",
   "metadata": {},
   "source": [
    "The years across the x-axes are difficult to read because there are so many values. One way to address this issue is to rotate the tick labels. Rotate the x-axes tick labels in your plot using `plt.xticks(rotation=70)`\n",
    "\n",
    "Also set the label of the y-axis using the following line of code:\n",
    "ax.set(ylabel=\"GDP in Trillions of U.S. Dollars\")"
   ]
  },
  {
   "cell_type": "code",
   "execution_count": null,
   "metadata": {},
   "outputs": [],
   "source": [
    "f, ax = plt.subplots(figsize=(15, 6)) \n",
    "ax = sns.pointplot(x=\"Year\", y=\"GDP\", hue = \"Country\", data=gdp)\n",
    "plt.xticks(rotation=70)\n",
    "\n",
    "ax.set(ylabel=\"GDP in Trillions of U.S. Dollars\")\n"
   ]
  },
  {
   "cell_type": "markdown",
   "metadata": {},
   "source": [
    "Because the values of GDP are so high, the tick labels on the y-axis can be a little confusing. You can reformat the values to be in trillions using the code we've put in the cell for you below. Run the code to see the difference."
   ]
  },
  {
   "cell_type": "code",
   "execution_count": null,
   "metadata": {},
   "outputs": [],
   "source": [
    "from matplotlib.ticker import FuncFormatter\n",
    "def trillions(x, pos):\n",
    "    'The two args are the value and tick position'\n",
    "    return '$%1.1fT' % (x*1e-12)\n",
    "\n",
    "formatter = FuncFormatter(trillions)\n",
    "\n",
    "\n",
    "f, ax = plt.subplots(figsize=(15, 6)) \n",
    "ax = sns.pointplot(x=\"Year\", y=\"GDP\", hue = \"Country\", data=gdp)\n",
    "plt.xticks(rotation=70)\n",
    "ax.yaxis.set_major_formatter(formatter)\n",
    "ax.set(ylabel=\"GDP in Trillions of U.S. Dollars\")\n"
   ]
  },
  {
   "cell_type": "markdown",
   "metadata": {},
   "source": [
    "What are your first impressions looking at the visualized data?\n",
    "\n",
    "- Which countries' line changes the most?\n",
    "- What years are there the biggest changes in the data?\n",
    "- Which country has had the least change in GDP over time? \n",
    "- Can you think of any reasons that the data looks like this for particular countries?"
   ]
  },
  {
   "cell_type": "code",
   "execution_count": null,
   "metadata": {},
   "outputs": [],
   "source": []
  },
  {
   "cell_type": "markdown",
   "metadata": {},
   "source": [
    "## Step 8 Point Plots Life Expectancy"
   ]
  },
  {
   "cell_type": "markdown",
   "metadata": {},
   "source": [
    "To compare GDP and life expectancy over time we also need to plot the life expectancy data. "
   ]
  },
  {
   "cell_type": "markdown",
   "metadata": {},
   "source": [
    "Start again by  setting the variables `f, ax ` equal to `plt.subplots()`. Set the size of the figure to 12x6.\n",
    "\n",
    "Create a point plot from the DataFrame `life`, using the \"Year\" column for the `x` argument, the \"LEABY\" column for the `y` argument, and the \"Country\" column for the `hue` argument. Use the variable `ax` for your plot, like this:\n",
    "```python\n",
    "ax = sns.pointplot()\n",
    "```\n",
    "\n",
    "Set the y-axis label back to \"Life expectancy at birth (years)\" using `ax.set()`."
   ]
  },
  {
   "cell_type": "code",
   "execution_count": null,
   "metadata": {},
   "outputs": [],
   "source": [
    "f, ax = plt.subplots(figsize=(12, 6)) \n",
    "ax = sns.pointplot(x=\"Year\", y=\"LEABY\", hue = \"Country\", data=life)\n",
    "ax.set(ylabel=\"Life expectancy at birth (years)\")"
   ]
  },
  {
   "cell_type": "markdown",
   "metadata": {},
   "source": [
    "What are your first impressions looking at the visualized data?\n",
    "\n",
    "- Which countries' line changes the most?\n",
    "- What years are there the biggest changes in the data?\n",
    "- Which country has had the least change in life expectancy over time? \n",
    "- Can you think of any reasons that the data looks like this for particular countries?"
   ]
  },
  {
   "cell_type": "code",
   "execution_count": null,
   "metadata": {},
   "outputs": [],
   "source": []
  },
  {
   "cell_type": "markdown",
   "metadata": {},
   "source": [
    "## Step 9 Combined Data"
   ]
  },
  {
   "cell_type": "markdown",
   "metadata": {},
   "source": [
    "To create a visualization that will make it easier to see the possible correlation between GDP and life expectancy, you can plot each set of data on its own subplot, on a shared figure.\n",
    "\n",
    "To make this easier, we have created a CSV file that has columns for both GDP and life expectancy for the years 2000-2015.\n",
    "\n",
    "Use `pd.read_csv()` to import the file **combined_data.csv** to a variable named `combined_data`. Then, check the new DataFrame using `.head()`.\n"
   ]
  },
  {
   "cell_type": "code",
   "execution_count": null,
   "metadata": {},
   "outputs": [],
   "source": [
    "# read in combined csv\n",
    "combined_data = pd.read_csv(\"combined_data.csv\") \n",
    "# head\n",
    "combined_data.head()"
   ]
  },
  {
   "cell_type": "markdown",
   "metadata": {},
   "source": [
    "## Step 10 Comparison Over Time"
   ]
  },
  {
   "cell_type": "markdown",
   "metadata": {},
   "source": [
    "Create a figure with two subplots, divided into 2 rows and 1 column. \n",
    "\n",
    "- We have set up the code for you on line 1 in the cell below. Complete the figure by passing the following arguments to `plt.subplots()`\n",
    "    - `2`-- the number of rows for the subplots\n",
    "    - `1` -- the number of columns for the subplots\n",
    "    - `figsize=(15, 15)` -- the size of the figure\n",
    "\n",
    "\n",
    "Use the `combined_data` DataFrame to create point plots for the GDP and Life expectancy over the same 16 years.\n",
    "\n",
    "The code for `pointplot()` will be the same as you have previously used in this project, with the addition of the `ax` argument which can be added after the `data` argument.\n",
    "- Set the `ax` argument for one `pointplot()` to `ax1`, and the other to `ax2`."
   ]
  },
  {
   "cell_type": "code",
   "execution_count": 53,
   "metadata": {},
   "outputs": [
    {
     "data": {
      "text/plain": [
       "Text(0.5,1,'Life Expectancy In Years Over Time')"
      ]
     },
     "execution_count": 53,
     "metadata": {},
     "output_type": "execute_result"
    },
    {
     "data": {
      "image/png": "[encoded data removed]",
      "text/plain": [
       "<matplotlib.figure.Figure at 0x1a24aba320>"
      ]
     },
     "metadata": {},
     "output_type": "display_data"
    }
   ],
   "source": [
    "from matplotlib.ticker import FuncFormatter\n",
    "def trillions(x, pos):\n",
    "    'The two args are the value and tick position'\n",
    "    return '$%1.1fT' % (x*1e-12)\n",
    "\n",
    "formatter = FuncFormatter(trillions)\n",
    "\n",
    "sns.set_style(\"dark\")\n",
    "f, (ax1, ax2) = plt.subplots(2,1,figsize=(15, 15) )\n",
    "sns.set_palette(\"Dark2\")\n",
    "ax1 = sns.pointplot(x=\"Year\", y=\"LEABY\", hue = \"Country\", data=combined_data, ax=ax1)\n",
    "ax2 = sns.pointplot(x=\"Year\", y=\"GDP\", hue = \"Country\", data=combined_data, ax=ax2)\n",
    "ax2.yaxis.set_major_formatter(formatter)\n",
    "ax1.set(ylabel=\"Life expectancy at birth (years)\")\n",
    "ax2.set(ylabel=\"GDP in Trillions of U.S. Dollars\")\n",
    "ax2.set_title(\"GDP in Trillions of Dollars Over Time\")\n",
    "ax1.set_title(\"Life Expectancy In Years Over Time\")\n"
   ]
  },
  {
   "cell_type": "markdown",
   "metadata": {},
   "source": [
    "You may have to look closely to see the GDP difference between Zimbabwe and the Dominican Republic, as they are very similar over this time period. "
   ]
  },
  {
   "cell_type": "markdown",
   "metadata": {},
   "source": [
    "Which countries have the highest and lowest GDP?"
   ]
  },
  {
   "cell_type": "code",
   "execution_count": null,
   "metadata": {},
   "outputs": [],
   "source": []
  },
  {
   "cell_type": "markdown",
   "metadata": {},
   "source": [
    "Which countries have the highest and lowest life expectancy?"
   ]
  },
  {
   "cell_type": "code",
   "execution_count": null,
   "metadata": {},
   "outputs": [],
   "source": []
  },
  {
   "cell_type": "markdown",
   "metadata": {},
   "source": [
    "## Step 11 Researching Data Context "
   ]
  },
  {
   "cell_type": "markdown",
   "metadata": {},
   "source": [
    "Based on the visualization, choose one part the data to research a little further so you can add some real world context to the visualization. You can choose anything you like, or use the example question below.\n",
    "\n",
    "What happened in China between 1991-2016 that increased the GDP so drastically?"
   ]
  },
  {
   "cell_type": "code",
   "execution_count": null,
   "metadata": {},
   "outputs": [],
   "source": []
  },
  {
   "cell_type": "markdown",
   "metadata": {},
   "source": [
    "## Step 12 Create Blog Post"
   ]
  },
  {
   "cell_type": "markdown",
   "metadata": {},
   "source": [
    "Use the content you have created in this Jupyter notebook to create a blog post on this data."
   ]
  },
  {
   "cell_type": "code",
   "execution_count": null,
   "metadata": {},
   "outputs": [],
   "source": []
  },
  {
   "cell_type": "markdown",
   "metadata": {},
   "source": [
    "## Bonus/Optional Probably Delete"
   ]
  },
  {
   "cell_type": "code",
   "execution_count": null,
   "metadata": {},
   "outputs": [],
   "source": [
    "x = combined_data[\"LEABY\"]\n",
    "z = combined_data[\"GDP\"]\n",
    "y = combined_data[\"Year\"]\n",
    "# sns.lvplot(data=combined_data, scale=\"linear\", palette=\"mako\")\n",
    "# ax = sns.kdeplot(z, y, shade=True, cmap=\"mako\")\n",
    "# ax2 = sns.kdeplot(z, shade=True, color=\"b\")"
   ]
  }
 ],
 "metadata": {
  "kernelspec": {
   "display_name": "Python 3",
   "language": "python",
   "name": "python3"
  },
  "language_info": {
   "codemirror_mode": {
    "name": "ipython",
    "version": 3
   },
   "file_extension": ".py",
   "mimetype": "text/x-python",
   "name": "python",
   "nbconvert_exporter": "python",
   "pygments_lexer": "ipython3",
   "version": "3.6.4"
  }
 },
 "nbformat": 4,
 "nbformat_minor": 2
}
